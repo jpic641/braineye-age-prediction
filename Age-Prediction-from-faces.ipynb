{
 "cells": [
  {
   "cell_type": "markdown",
   "id": "9db25ba7-f22c-4777-990f-3de3bc48f6e4",
   "metadata": {},
   "source": [
    "# Age Prediction from Facial Images\n",
    "This notebook describes a deep learning solution for predicting the age from images of faces. \n",
    "\n",
    "The dataset consists of people aged between 20-50. Therefore, we can assume that the effectiveness of this model lies between this range. "
   ]
  },
  {
   "cell_type": "markdown",
   "id": "341d22f1-ac71-4864-bae6-aa1e660847ad",
   "metadata": {},
   "source": [
    "## Import packages"
   ]
  },
  {
   "cell_type": "code",
   "execution_count": 2,
   "id": "3c6673f3-cddc-434b-b46f-52afc72cc03d",
   "metadata": {
    "tags": []
   },
   "outputs": [],
   "source": [
    "import os"
   ]
  },
  {
   "cell_type": "code",
   "execution_count": null,
   "id": "45e92217-5c94-4108-b976-1e00f1d8c431",
   "metadata": {},
   "outputs": [],
   "source": []
  },
  {
   "cell_type": "code",
   "execution_count": null,
   "id": "10d4de8f-d06a-41a1-b4cd-8c68d34e2c77",
   "metadata": {},
   "outputs": [],
   "source": []
  },
  {
   "cell_type": "markdown",
   "id": "1f6335c8-bd65-4373-b13b-1202bb6429ac",
   "metadata": {},
   "source": [
    "## 1. Data Analysis:\n",
    "\n",
    "The first step in our process is to explore the dataset provided. "
   ]
  },
  {
   "cell_type": "code",
   "execution_count": 3,
   "id": "a056062e-1d22-4d3a-9bc4-ff30e65f7af7",
   "metadata": {
    "tags": []
   },
   "outputs": [],
   "source": [
    "cwd = os.getcwd()"
   ]
  },
  {
   "cell_type": "code",
   "execution_count": 4,
   "id": "a2dec78e-4945-4876-9f8c-a3048d3c5ec1",
   "metadata": {
    "tags": []
   },
   "outputs": [
    {
     "data": {
      "text/plain": [
       "'C:\\\\Users\\\\Jared\\\\projects\\\\python\\\\braineye'"
      ]
     },
     "execution_count": 4,
     "metadata": {},
     "output_type": "execute_result"
    }
   ],
   "source": []
  },
  {
   "cell_type": "code",
   "execution_count": null,
   "id": "24dd986f-8336-4237-99b9-19927d16e759",
   "metadata": {},
   "outputs": [],
   "source": []
  },
  {
   "cell_type": "markdown",
   "id": "38d349de-9b32-42d8-add7-0ffd81e97c16",
   "metadata": {},
   "source": [
    "Is gender included in the dataset? \n",
    "Figure out what needs to be cleaned"
   ]
  }
 ],
 "metadata": {
  "kernelspec": {
   "display_name": "braineye",
   "language": "python",
   "name": "braineye"
  },
  "language_info": {
   "codemirror_mode": {
    "name": "ipython",
    "version": 3
   },
   "file_extension": ".py",
   "mimetype": "text/x-python",
   "name": "python",
   "nbconvert_exporter": "python",
   "pygments_lexer": "ipython3",
   "version": "3.12.4"
  }
 },
 "nbformat": 4,
 "nbformat_minor": 5
}
