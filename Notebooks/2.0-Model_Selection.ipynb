{
 "cells": [
  {
   "cell_type": "code",
   "execution_count": 1,
   "id": "976f1535-7673-4b36-9140-bcc0fe3cc912",
   "metadata": {
    "tags": []
   },
   "outputs": [],
   "source": [
    "import os\n",
    "import sys\n",
    "import numpy as np\n",
    "import pandas as pd\n",
    "import matplotlib.pyplot as plt\n",
    "import time\n",
    "from PIL import Image\n",
    "from sklearn.model_selection import KFold\n",
    "from tqdm import tqdm\n",
    "\n",
    "import torch\n",
    "import torch.nn as nn\n",
    "import torch.optim as optim\n",
    "from torchvision.io import read_image\n",
    "from torch.optim import lr_scheduler\n",
    "from torch.utils.data import Dataset, DataLoader, Subset\n",
    "import torchvision\n",
    "from torchvision import datasets, models, transforms\n",
    "\n",
    "\n",
    "import torch.backends.cudnn as cudnn\n",
    "cudnn.benchmark = True\n",
    "\n",
    "# Define the module path so that we can call our own helper functions\n",
    "module_path = os.path.abspath(os.path.join(\"..\"))\n",
    "if module_path not in sys.path:\n",
    "    sys.path.append(module_path)\n",
    "    \n",
    "from src.utilities.utils import get_image_paths"
   ]
  },
  {
   "cell_type": "code",
   "execution_count": 2,
   "id": "ff3fa285-be3c-412e-8f2f-dccb964abebc",
   "metadata": {},
   "outputs": [],
   "source": [
    "import warnings\n",
    "warnings.filterwarnings(\"ignore\")"
   ]
  },
  {
   "cell_type": "markdown",
   "id": "d38801ab-f8b6-439e-857e-28a91ed39a59",
   "metadata": {},
   "source": [
    "## 2.0-Model-Selection\n",
    "\n",
    "The purpose of this notebook is for evaluating a set of pretrained models through cross validation, to assess the generalization capaibility of the selected models. No augmentation will be applied at this point.\n",
    "\n"
   ]
  },
  {
   "cell_type": "markdown",
   "id": "b0fa2029-2797-4732-a743-cc8dfe04a327",
   "metadata": {},
   "source": [
    "## Load dataset"
   ]
  },
  {
   "cell_type": "code",
   "execution_count": 3,
   "id": "e0638f9c-9fa0-4ea5-9a75-e700f6c3b681",
   "metadata": {
    "tags": []
   },
   "outputs": [],
   "source": [
    "data_dir = os.path.join(module_path, \"data\", \"processed\")\n"
   ]
  },
  {
   "cell_type": "code",
   "execution_count": 4,
   "id": "6ff723b9-f1df-451b-85df-b9c91808dfc6",
   "metadata": {
    "tags": []
   },
   "outputs": [],
   "source": [
    "# Dataset class\n",
    "class AgeDataset(Dataset):\n",
    "    def __init__(self, image_paths, ages, transform=None):\n",
    "        self.image_paths = image_paths\n",
    "        self.ages = ages\n",
    "        self.transform = transform\n",
    "\n",
    "    def __len__(self):\n",
    "        return len(self.image_paths)\n",
    "\n",
    "    def __getitem__(self, idx):\n",
    "        # image = Image.open(self.image_paths[idx]).convert('RGB')\n",
    "        image = read_image(self.image_paths[idx])\n",
    "        image = image.float() / 255.0\n",
    "        if self.transform:\n",
    "            image = self.transform(image)\n",
    "        age = self.ages[idx]\n",
    "        return image, age"
   ]
  },
  {
   "cell_type": "code",
   "execution_count": null,
   "id": "8c8089ec-0ea4-43ad-bf95-d03f120f0c9e",
   "metadata": {},
   "outputs": [],
   "source": []
  },
  {
   "cell_type": "code",
   "execution_count": 5,
   "id": "a5546a3c-033a-49c8-b05d-1737c01807fe",
   "metadata": {
    "tags": []
   },
   "outputs": [],
   "source": [
    "# Data resizing and normalization for training. No augmentation just yet.\n",
    "# data_transforms = {\n",
    "#     \"train\": transforms.Compose([\n",
    "#         transforms.Resize((224,224)),\n",
    "#         transforms.ToTensor(),\n",
    "#         transforms.Normalize([0.4519, 0.3799, 0.3389], [0.2496, 0.2254, 0.2166])\n",
    "#     ]),\n",
    "#     \"val\": transforms.Compose([\n",
    "#         transforms.Resize((224,224)),\n",
    "#         transforms.ToTensor(),\n",
    "#         transforms.Normalize([0.4519, 0.3799, 0.3389], [0.2496, 0.2254, 0.2166])\n",
    "#     ]),\n",
    "# }\n",
    "        \n",
    "data_transforms = transforms.Compose([\n",
    "    transforms.Resize((224, 224)),  # Resize images to 224x224\n",
    "    # transforms.ToTensor(),          # Convert images to PyTorch tensors\n",
    "    transforms.Normalize([0.485, 0.456, 0.406], [0.229, 0.224, 0.225])  # Normalize with ImageNet mean and std\n",
    "])"
   ]
  },
  {
   "cell_type": "code",
   "execution_count": 6,
   "id": "0a83af27-630c-4e45-a293-1de05b0694ee",
   "metadata": {
    "tags": []
   },
   "outputs": [],
   "source": [
    "mappings_path = os.path.join(module_path, \"data\", \"mappings.csv\")\n",
    "mappings = pd.read_csv(mappings_path)"
   ]
  },
  {
   "cell_type": "code",
   "execution_count": null,
   "id": "7e6fa8ca-9acc-43d1-a0a2-9497543999db",
   "metadata": {
    "tags": []
   },
   "outputs": [],
   "source": []
  },
  {
   "cell_type": "code",
   "execution_count": 7,
   "id": "5e42e978-a75c-4d7a-9a3d-61d151b2cd96",
   "metadata": {
    "tags": []
   },
   "outputs": [],
   "source": [
    "# Extract the lists from the mappings. We are taking from interrim as these images haven't been split into a train-val split yet. \n",
    "ages_list = mappings.target.to_list()\n",
    "image_paths = mappings.updated_path.to_list()"
   ]
  },
  {
   "cell_type": "code",
   "execution_count": 8,
   "id": "57e65a12-3c1c-4810-bacd-f8126d0abf3f",
   "metadata": {
    "tags": []
   },
   "outputs": [],
   "source": [
    "# Create dataset object\n",
    "dataset = AgeDataset(image_paths, ages_list, transform=data_transforms)\n"
   ]
  },
  {
   "cell_type": "markdown",
   "id": "ec062a39-0068-49b5-87e3-76b8712e16d3",
   "metadata": {},
   "source": [
    "## Define the models used for K-Fold Cross-validation\n",
    "\n",
    "\n",
    "Let's define a dict containing the functions to call our models. While it was originally desired to use SqueezeNet. Due to lack of time, only two models will be evaluated."
   ]
  },
  {
   "cell_type": "code",
   "execution_count": 9,
   "id": "bb103757-bdbb-4082-912c-2d76516b707d",
   "metadata": {
    "tags": []
   },
   "outputs": [],
   "source": [
    "def get_efficientnet_b0():\n",
    "    \"\"\"\n",
    "    Returns the EfficientB0 CNN model\n",
    "        \n",
    "    Returns:\n",
    "        model: PyTorch pretrained EfficientB0 model\n",
    "    \"\"\"\n",
    "    model = models.efficientnet_b0(pretrained=True)\n",
    "    num_ftrs = model.classifier[1].in_features\n",
    "    model.classifier[1] = torch.nn.Linear(num_ftrs, 1)\n",
    "    return model\n",
    "\n",
    "\n",
    "def get_mobilenet_v3_small():\n",
    "    \"\"\"\n",
    "    Returns the MobileNetv3_small CNN model\n",
    "    \n",
    "    Returns:\n",
    "        model: PyTorch pretrained MobileNetv2 model\n",
    "    \"\"\"\n",
    "    model = models.mobilenet_v3_small(pretrained=True)\n",
    "    num_ftrs = model.classifier[3].in_features\n",
    "    model.classifier[3] = torch.nn.Linear(num_ftrs, 1)\n",
    "    return model\n",
    "\n",
    "# def get_squeezenet():\n",
    "#     \"\"\"\n",
    "#     Returns the SqueezeNet CNN model\n",
    "    \n",
    "#     Returns:\n",
    "#         model: PyTorch pretrained SqueezeNet model\n",
    "#     \"\"\"\n",
    "#     model = models.squeezenet1_0(pretrained=True)\n",
    "#     model.classifier[1] = torch.nn.Conv2d(512, 1, kernel_size=(1, 1), stride=(1, 1))\n",
    "#     model.num_classes = 1\n",
    "#     return model\n",
    "\n",
    "# Define a dictionary to readily call the pretrained models\n",
    "models_dict = {\n",
    "    'efficientnet_b0': get_efficientnet_b0,\n",
    "    # 'efficientnet_v2_s': get_efficientnet_v2_s,\n",
    "    'mobilenet_v3_small': get_mobilenet_v3_small,\n",
    "    # 'squeezenet': get_squeezenet\n",
    "}\n"
   ]
  },
  {
   "cell_type": "markdown",
   "id": "8bf3b1d7-1f8e-43f6-a336-83fcea4200f3",
   "metadata": {},
   "source": [
    "## Define the Evaluation Metrics\n",
    "\n",
    "Since we are exploring a regression based problem (at least, initially), we will define different metrics we can use to evaluate each model."
   ]
  },
  {
   "cell_type": "code",
   "execution_count": 10,
   "id": "d6f9689b-18cb-47c1-ad84-74f13c75b286",
   "metadata": {
    "tags": []
   },
   "outputs": [],
   "source": [
    "def mean_absolute_error(y_true, y_pred):\n",
    "    \"\"\"\n",
    "    Compute the mean absolute error\n",
    "    \n",
    "    Args:\n",
    "        y_true (): True value\n",
    "        y_pred (): Predicted value\n",
    "    \n",
    "    Returns:\n",
    "        mean absolute error between y_true and y_pred\n",
    "    \n",
    "    \"\"\"\n",
    "    return np.mean(np.abs(y_true - y_pred))\n",
    "\n",
    "def mean_squared_error(y_true, y_pred):\n",
    "    \"\"\"\n",
    "    Compute the mean squared error\n",
    "    \n",
    "    Args:\n",
    "        y_true (): True value\n",
    "        y_pred (): Predicted value\n",
    "    \n",
    "    Returns:\n",
    "        mean squared error of y_true and y_pred\n",
    "    \"\"\"\n",
    "    return np.mean((y_true - y_pred) ** 2)\n",
    "\n",
    "def root_mean_squared_error(y_true, y_pred):\n",
    "    \"\"\"\n",
    "    Compute the root mean squared error\n",
    "    \n",
    "    Args:\n",
    "        y_true (): True value\n",
    "        y_pred (): Predicted value\n",
    "    \n",
    "    Returns:\n",
    "        root mean squared error of y_true and y_pred\n",
    "    \"\"\"\n",
    "    return np.sqrt(mean_squared_error(y_true, y_pred))\n",
    "\n",
    "def r2_score(y_true, y_pred):\n",
    "    \"\"\"\n",
    "    Compute the R^2 score\n",
    "    \n",
    "    Args:\n",
    "        y_true (): True value\n",
    "        y_pred (): Predicted value\n",
    "    \n",
    "    Returns:\n",
    "        r squared score of y_true and y_pred\n",
    "    \"\"\"\n",
    "    ss_res = np.sum((y_true - y_pred) ** 2)\n",
    "    ss_tot = np.sum((y_true - np.mean(y_true)) ** 2)\n",
    "    return 1 - (ss_res / ss_tot)\n"
   ]
  },
  {
   "cell_type": "markdown",
   "id": "8daa8fe3-5a52-4744-b39f-93d79d4c6b6a",
   "metadata": {},
   "source": [
    "## Training and Evaluation with K-Fold Cross-Validation\n",
    "\n",
    "We will be assessing three different models with 5 folds and 10 epochs. While 10 epochs might not be enough, this could be increased in the future (particularly in a larger timeline due to the time-consuming nature)"
   ]
  },
  {
   "cell_type": "code",
   "execution_count": 11,
   "id": "0ad84a62-a43d-4539-ade8-902a378ea409",
   "metadata": {
    "tags": []
   },
   "outputs": [],
   "source": [
    "def train_and_evaluate(model_fn, dataset, k=4): #k=5 original desire\n",
    "    kf = KFold(n_splits=k, shuffle=True)\n",
    "    device = torch.device(\"cuda\" if torch.cuda.is_available() else \"cpu\")\n",
    "    \n",
    "    metrics = {\n",
    "        'mae': [],\n",
    "        'mse': [],\n",
    "        'rmse': [],\n",
    "        'r2': []\n",
    "    }\n",
    "\n",
    "    for fold, (train_idx, val_idx) in enumerate(kf.split(dataset)):\n",
    "        print(f\"Fold {fold + 1}/{k}\")\n",
    "        \n",
    "        train_subsampler = Subset(dataset, train_idx)\n",
    "        val_subsampler = Subset(dataset, val_idx)\n",
    "        \n",
    "        trainloader = DataLoader(train_subsampler, batch_size=32, shuffle=True)\n",
    "        valloader = DataLoader(val_subsampler, batch_size=32, shuffle=False)\n",
    "\n",
    "        model = model_fn().to(device)\n",
    "        criterion = torch.nn.MSELoss()\n",
    "        optimizer = torch.optim.Adam(model.parameters(), lr=0.001)\n",
    "\n",
    "        for epoch in range(10):  # Increase number of epochs in future\n",
    "            model.train()\n",
    "            running_loss = 0.0\n",
    "            with tqdm(trainloader, unit=\"batch\") as tepoch:\n",
    "                for inputs, labels in tepoch:\n",
    "                    tepoch.set_description(f\"Epoch {epoch + 1}\")\n",
    "                    inputs, labels = inputs.to(device), labels.to(device).float()\n",
    "\n",
    "                    optimizer.zero_grad()\n",
    "                    outputs = model(inputs)\n",
    "                    loss = criterion(outputs.squeeze(), labels)\n",
    "                    loss.backward()\n",
    "                    optimizer.step()\n",
    "\n",
    "                    running_loss += loss.item() * inputs.size(0)\n",
    "                    tepoch.set_postfix(loss=loss.item())\n",
    "\n",
    "            epoch_loss = running_loss / len(trainloader.dataset)\n",
    "            print(f\"Epoch {epoch + 1}, Loss: {epoch_loss:.4f}\")\n",
    "\n",
    "        model.eval()\n",
    "        y_true = []\n",
    "        y_pred = []\n",
    "\n",
    "        with torch.no_grad():\n",
    "            for inputs, labels in tqdm(valloader, desc=\"Validation\"):\n",
    "                inputs, labels = inputs.to(device), labels.to(device).float()\n",
    "                outputs = model(inputs)\n",
    "                y_true.extend(labels.cpu().numpy())\n",
    "                y_pred.extend(outputs.cpu().numpy())\n",
    "\n",
    "        y_true = np.array(y_true)\n",
    "        y_pred = np.array(y_pred).squeeze()\n",
    "\n",
    "        metrics['mae'].append(mean_absolute_error(y_true, y_pred))\n",
    "        metrics['mse'].append(mean_squared_error(y_true, y_pred))\n",
    "        metrics['rmse'].append(root_mean_squared_error(y_true, y_pred))\n",
    "        metrics['r2'].append(r2_score(y_true, y_pred))\n",
    "\n",
    "    return metrics\n"
   ]
  },
  {
   "cell_type": "code",
   "execution_count": 12,
   "id": "199c82b3-8310-46aa-b5a6-3a9d3856ca33",
   "metadata": {
    "tags": []
   },
   "outputs": [
    {
     "name": "stdout",
     "output_type": "stream",
     "text": [
      "Evaluating efficientnet_b0...\n",
      "Fold 1/4\n"
     ]
    },
    {
     "name": "stderr",
     "output_type": "stream",
     "text": [
      "Epoch 1: 100%|██████████| 687/687 [02:57<00:00,  3.87batch/s, loss=70.8] \n"
     ]
    },
    {
     "name": "stdout",
     "output_type": "stream",
     "text": [
      "Epoch 1, Loss: 80.9918\n"
     ]
    },
    {
     "name": "stderr",
     "output_type": "stream",
     "text": [
      "Epoch 2: 100%|██████████| 687/687 [02:34<00:00,  4.44batch/s, loss=52.4]\n"
     ]
    },
    {
     "name": "stdout",
     "output_type": "stream",
     "text": [
      "Epoch 2, Loss: 41.3728\n"
     ]
    },
    {
     "name": "stderr",
     "output_type": "stream",
     "text": [
      "Epoch 3: 100%|██████████| 687/687 [02:32<00:00,  4.52batch/s, loss=28.5]\n"
     ]
    },
    {
     "name": "stdout",
     "output_type": "stream",
     "text": [
      "Epoch 3, Loss: 36.0289\n"
     ]
    },
    {
     "name": "stderr",
     "output_type": "stream",
     "text": [
      "Epoch 4: 100%|██████████| 687/687 [02:29<00:00,  4.58batch/s, loss=29.7]\n"
     ]
    },
    {
     "name": "stdout",
     "output_type": "stream",
     "text": [
      "Epoch 4, Loss: 30.8896\n"
     ]
    },
    {
     "name": "stderr",
     "output_type": "stream",
     "text": [
      "Epoch 5: 100%|██████████| 687/687 [02:31<00:00,  4.53batch/s, loss=17.1]\n"
     ]
    },
    {
     "name": "stdout",
     "output_type": "stream",
     "text": [
      "Epoch 5, Loss: 25.4681\n"
     ]
    },
    {
     "name": "stderr",
     "output_type": "stream",
     "text": [
      "Epoch 6: 100%|██████████| 687/687 [02:32<00:00,  4.49batch/s, loss=12]  \n"
     ]
    },
    {
     "name": "stdout",
     "output_type": "stream",
     "text": [
      "Epoch 6, Loss: 20.3580\n"
     ]
    },
    {
     "name": "stderr",
     "output_type": "stream",
     "text": [
      "Epoch 7: 100%|██████████| 687/687 [02:31<00:00,  4.54batch/s, loss=20.4]\n"
     ]
    },
    {
     "name": "stdout",
     "output_type": "stream",
     "text": [
      "Epoch 7, Loss: 16.9590\n"
     ]
    },
    {
     "name": "stderr",
     "output_type": "stream",
     "text": [
      "Epoch 8: 100%|██████████| 687/687 [02:32<00:00,  4.52batch/s, loss=22.7]\n"
     ]
    },
    {
     "name": "stdout",
     "output_type": "stream",
     "text": [
      "Epoch 8, Loss: 13.7194\n"
     ]
    },
    {
     "name": "stderr",
     "output_type": "stream",
     "text": [
      "Epoch 9: 100%|██████████| 687/687 [02:33<00:00,  4.49batch/s, loss=12.8]\n"
     ]
    },
    {
     "name": "stdout",
     "output_type": "stream",
     "text": [
      "Epoch 9, Loss: 11.9958\n"
     ]
    },
    {
     "name": "stderr",
     "output_type": "stream",
     "text": [
      "Epoch 10: 100%|██████████| 687/687 [02:32<00:00,  4.50batch/s, loss=24.6]\n"
     ]
    },
    {
     "name": "stdout",
     "output_type": "stream",
     "text": [
      "Epoch 10, Loss: 10.8925\n"
     ]
    },
    {
     "name": "stderr",
     "output_type": "stream",
     "text": [
      "Validation: 100%|██████████| 229/229 [00:32<00:00,  7.03it/s]\n"
     ]
    },
    {
     "name": "stdout",
     "output_type": "stream",
     "text": [
      "Fold 2/4\n"
     ]
    },
    {
     "name": "stderr",
     "output_type": "stream",
     "text": [
      "Epoch 1: 100%|██████████| 687/687 [02:34<00:00,  4.45batch/s, loss=68.7] \n"
     ]
    },
    {
     "name": "stdout",
     "output_type": "stream",
     "text": [
      "Epoch 1, Loss: 82.4404\n"
     ]
    },
    {
     "name": "stderr",
     "output_type": "stream",
     "text": [
      "Epoch 2: 100%|██████████| 687/687 [02:33<00:00,  4.49batch/s, loss=46.9]\n"
     ]
    },
    {
     "name": "stdout",
     "output_type": "stream",
     "text": [
      "Epoch 2, Loss: 41.4314\n"
     ]
    },
    {
     "name": "stderr",
     "output_type": "stream",
     "text": [
      "Epoch 3: 100%|██████████| 687/687 [02:32<00:00,  4.50batch/s, loss=52.7]\n"
     ]
    },
    {
     "name": "stdout",
     "output_type": "stream",
     "text": [
      "Epoch 3, Loss: 35.8610\n"
     ]
    },
    {
     "name": "stderr",
     "output_type": "stream",
     "text": [
      "Epoch 4: 100%|██████████| 687/687 [02:31<00:00,  4.52batch/s, loss=33.3]\n"
     ]
    },
    {
     "name": "stdout",
     "output_type": "stream",
     "text": [
      "Epoch 4, Loss: 31.0574\n"
     ]
    },
    {
     "name": "stderr",
     "output_type": "stream",
     "text": [
      "Epoch 5: 100%|██████████| 687/687 [02:29<00:00,  4.59batch/s, loss=26.9]\n"
     ]
    },
    {
     "name": "stdout",
     "output_type": "stream",
     "text": [
      "Epoch 5, Loss: 25.8405\n"
     ]
    },
    {
     "name": "stderr",
     "output_type": "stream",
     "text": [
      "Epoch 6: 100%|██████████| 687/687 [02:28<00:00,  4.61batch/s, loss=13.6]\n"
     ]
    },
    {
     "name": "stdout",
     "output_type": "stream",
     "text": [
      "Epoch 6, Loss: 20.8556\n"
     ]
    },
    {
     "name": "stderr",
     "output_type": "stream",
     "text": [
      "Epoch 7: 100%|██████████| 687/687 [02:26<00:00,  4.67batch/s, loss=29.4]\n"
     ]
    },
    {
     "name": "stdout",
     "output_type": "stream",
     "text": [
      "Epoch 7, Loss: 16.3914\n"
     ]
    },
    {
     "name": "stderr",
     "output_type": "stream",
     "text": [
      "Epoch 8: 100%|██████████| 687/687 [02:25<00:00,  4.74batch/s, loss=14.6]\n"
     ]
    },
    {
     "name": "stdout",
     "output_type": "stream",
     "text": [
      "Epoch 8, Loss: 13.9040\n"
     ]
    },
    {
     "name": "stderr",
     "output_type": "stream",
     "text": [
      "Epoch 9: 100%|██████████| 687/687 [02:26<00:00,  4.69batch/s, loss=6.26]\n"
     ]
    },
    {
     "name": "stdout",
     "output_type": "stream",
     "text": [
      "Epoch 9, Loss: 11.9821\n"
     ]
    },
    {
     "name": "stderr",
     "output_type": "stream",
     "text": [
      "Epoch 10: 100%|██████████| 687/687 [02:28<00:00,  4.63batch/s, loss=10.7]\n"
     ]
    },
    {
     "name": "stdout",
     "output_type": "stream",
     "text": [
      "Epoch 10, Loss: 11.0534\n"
     ]
    },
    {
     "name": "stderr",
     "output_type": "stream",
     "text": [
      "Validation: 100%|██████████| 229/229 [00:28<00:00,  7.91it/s]\n"
     ]
    },
    {
     "name": "stdout",
     "output_type": "stream",
     "text": [
      "Fold 3/4\n"
     ]
    },
    {
     "name": "stderr",
     "output_type": "stream",
     "text": [
      "Epoch 1: 100%|██████████| 687/687 [02:25<00:00,  4.71batch/s, loss=68.4] \n"
     ]
    },
    {
     "name": "stdout",
     "output_type": "stream",
     "text": [
      "Epoch 1, Loss: 80.4463\n"
     ]
    },
    {
     "name": "stderr",
     "output_type": "stream",
     "text": [
      "Epoch 2: 100%|██████████| 687/687 [02:26<00:00,  4.68batch/s, loss=53.7]\n"
     ]
    },
    {
     "name": "stdout",
     "output_type": "stream",
     "text": [
      "Epoch 2, Loss: 41.4229\n"
     ]
    },
    {
     "name": "stderr",
     "output_type": "stream",
     "text": [
      "Epoch 3: 100%|██████████| 687/687 [02:28<00:00,  4.63batch/s, loss=42.1]\n"
     ]
    },
    {
     "name": "stdout",
     "output_type": "stream",
     "text": [
      "Epoch 3, Loss: 36.3627\n"
     ]
    },
    {
     "name": "stderr",
     "output_type": "stream",
     "text": [
      "Epoch 4: 100%|██████████| 687/687 [02:26<00:00,  4.69batch/s, loss=26.9]\n"
     ]
    },
    {
     "name": "stdout",
     "output_type": "stream",
     "text": [
      "Epoch 4, Loss: 30.5026\n"
     ]
    },
    {
     "name": "stderr",
     "output_type": "stream",
     "text": [
      "Epoch 5: 100%|██████████| 687/687 [02:25<00:00,  4.72batch/s, loss=20.8]\n"
     ]
    },
    {
     "name": "stdout",
     "output_type": "stream",
     "text": [
      "Epoch 5, Loss: 24.9066\n"
     ]
    },
    {
     "name": "stderr",
     "output_type": "stream",
     "text": [
      "Epoch 6: 100%|██████████| 687/687 [02:28<00:00,  4.64batch/s, loss=25.9]\n"
     ]
    },
    {
     "name": "stdout",
     "output_type": "stream",
     "text": [
      "Epoch 6, Loss: 20.0010\n"
     ]
    },
    {
     "name": "stderr",
     "output_type": "stream",
     "text": [
      "Epoch 7: 100%|██████████| 687/687 [02:27<00:00,  4.65batch/s, loss=35.9]\n"
     ]
    },
    {
     "name": "stdout",
     "output_type": "stream",
     "text": [
      "Epoch 7, Loss: 16.2539\n"
     ]
    },
    {
     "name": "stderr",
     "output_type": "stream",
     "text": [
      "Epoch 8: 100%|██████████| 687/687 [02:28<00:00,  4.63batch/s, loss=14.3]\n"
     ]
    },
    {
     "name": "stdout",
     "output_type": "stream",
     "text": [
      "Epoch 8, Loss: 13.5892\n"
     ]
    },
    {
     "name": "stderr",
     "output_type": "stream",
     "text": [
      "Epoch 9: 100%|██████████| 687/687 [02:28<00:00,  4.63batch/s, loss=18.9]\n"
     ]
    },
    {
     "name": "stdout",
     "output_type": "stream",
     "text": [
      "Epoch 9, Loss: 11.9668\n"
     ]
    },
    {
     "name": "stderr",
     "output_type": "stream",
     "text": [
      "Epoch 10: 100%|██████████| 687/687 [02:30<00:00,  4.56batch/s, loss=4.7] \n"
     ]
    },
    {
     "name": "stdout",
     "output_type": "stream",
     "text": [
      "Epoch 10, Loss: 10.6077\n"
     ]
    },
    {
     "name": "stderr",
     "output_type": "stream",
     "text": [
      "Validation: 100%|██████████| 229/229 [00:26<00:00,  8.80it/s]\n"
     ]
    },
    {
     "name": "stdout",
     "output_type": "stream",
     "text": [
      "Fold 4/4\n"
     ]
    },
    {
     "name": "stderr",
     "output_type": "stream",
     "text": [
      "Epoch 1: 100%|██████████| 687/687 [02:27<00:00,  4.67batch/s, loss=42.9] \n"
     ]
    },
    {
     "name": "stdout",
     "output_type": "stream",
     "text": [
      "Epoch 1, Loss: 81.9534\n"
     ]
    },
    {
     "name": "stderr",
     "output_type": "stream",
     "text": [
      "Epoch 2: 100%|██████████| 687/687 [02:30<00:00,  4.57batch/s, loss=39.8]\n"
     ]
    },
    {
     "name": "stdout",
     "output_type": "stream",
     "text": [
      "Epoch 2, Loss: 41.9757\n"
     ]
    },
    {
     "name": "stderr",
     "output_type": "stream",
     "text": [
      "Epoch 3: 100%|██████████| 687/687 [02:28<00:00,  4.64batch/s, loss=50.2]\n"
     ]
    },
    {
     "name": "stdout",
     "output_type": "stream",
     "text": [
      "Epoch 3, Loss: 36.2034\n"
     ]
    },
    {
     "name": "stderr",
     "output_type": "stream",
     "text": [
      "Epoch 4: 100%|██████████| 687/687 [02:28<00:00,  4.63batch/s, loss=40.8]\n"
     ]
    },
    {
     "name": "stdout",
     "output_type": "stream",
     "text": [
      "Epoch 4, Loss: 31.4374\n"
     ]
    },
    {
     "name": "stderr",
     "output_type": "stream",
     "text": [
      "Epoch 5: 100%|██████████| 687/687 [02:27<00:00,  4.66batch/s, loss=38.2]\n"
     ]
    },
    {
     "name": "stdout",
     "output_type": "stream",
     "text": [
      "Epoch 5, Loss: 25.9623\n"
     ]
    },
    {
     "name": "stderr",
     "output_type": "stream",
     "text": [
      "Epoch 6: 100%|██████████| 687/687 [02:24<00:00,  4.75batch/s, loss=29.6]\n"
     ]
    },
    {
     "name": "stdout",
     "output_type": "stream",
     "text": [
      "Epoch 6, Loss: 21.0661\n"
     ]
    },
    {
     "name": "stderr",
     "output_type": "stream",
     "text": [
      "Epoch 7: 100%|██████████| 687/687 [02:24<00:00,  4.75batch/s, loss=29.7]\n"
     ]
    },
    {
     "name": "stdout",
     "output_type": "stream",
     "text": [
      "Epoch 7, Loss: 16.5093\n"
     ]
    },
    {
     "name": "stderr",
     "output_type": "stream",
     "text": [
      "Epoch 8: 100%|██████████| 687/687 [02:25<00:00,  4.73batch/s, loss=16.5]\n"
     ]
    },
    {
     "name": "stdout",
     "output_type": "stream",
     "text": [
      "Epoch 8, Loss: 14.3513\n"
     ]
    },
    {
     "name": "stderr",
     "output_type": "stream",
     "text": [
      "Epoch 9: 100%|██████████| 687/687 [02:25<00:00,  4.72batch/s, loss=7.5] \n"
     ]
    },
    {
     "name": "stdout",
     "output_type": "stream",
     "text": [
      "Epoch 9, Loss: 12.3088\n"
     ]
    },
    {
     "name": "stderr",
     "output_type": "stream",
     "text": [
      "Epoch 10: 100%|██████████| 687/687 [02:25<00:00,  4.72batch/s, loss=19.4]\n"
     ]
    },
    {
     "name": "stdout",
     "output_type": "stream",
     "text": [
      "Epoch 10, Loss: 11.1302\n"
     ]
    },
    {
     "name": "stderr",
     "output_type": "stream",
     "text": [
      "Validation: 100%|██████████| 229/229 [00:29<00:00,  7.87it/s]\n"
     ]
    },
    {
     "name": "stdout",
     "output_type": "stream",
     "text": [
      "Evaluating mobilenet_v3_small...\n",
      "Fold 1/4\n"
     ]
    },
    {
     "name": "stderr",
     "output_type": "stream",
     "text": [
      "Epoch 1: 100%|██████████| 687/687 [01:29<00:00,  7.72batch/s, loss=54.5] \n"
     ]
    },
    {
     "name": "stdout",
     "output_type": "stream",
     "text": [
      "Epoch 1, Loss: 62.3095\n"
     ]
    },
    {
     "name": "stderr",
     "output_type": "stream",
     "text": [
      "Epoch 2: 100%|██████████| 687/687 [01:27<00:00,  7.89batch/s, loss=60.5]\n"
     ]
    },
    {
     "name": "stdout",
     "output_type": "stream",
     "text": [
      "Epoch 2, Loss: 44.6267\n"
     ]
    },
    {
     "name": "stderr",
     "output_type": "stream",
     "text": [
      "Epoch 3: 100%|██████████| 687/687 [01:28<00:00,  7.79batch/s, loss=47.4]\n"
     ]
    },
    {
     "name": "stdout",
     "output_type": "stream",
     "text": [
      "Epoch 3, Loss: 40.9503\n"
     ]
    },
    {
     "name": "stderr",
     "output_type": "stream",
     "text": [
      "Epoch 4: 100%|██████████| 687/687 [01:26<00:00,  7.93batch/s, loss=44.4]\n"
     ]
    },
    {
     "name": "stdout",
     "output_type": "stream",
     "text": [
      "Epoch 4, Loss: 35.7116\n"
     ]
    },
    {
     "name": "stderr",
     "output_type": "stream",
     "text": [
      "Epoch 5: 100%|██████████| 687/687 [01:27<00:00,  7.85batch/s, loss=32.1]\n"
     ]
    },
    {
     "name": "stdout",
     "output_type": "stream",
     "text": [
      "Epoch 5, Loss: 30.1118\n"
     ]
    },
    {
     "name": "stderr",
     "output_type": "stream",
     "text": [
      "Epoch 6: 100%|██████████| 687/687 [01:27<00:00,  7.81batch/s, loss=16.9]\n"
     ]
    },
    {
     "name": "stdout",
     "output_type": "stream",
     "text": [
      "Epoch 6, Loss: 25.8723\n"
     ]
    },
    {
     "name": "stderr",
     "output_type": "stream",
     "text": [
      "Epoch 7: 100%|██████████| 687/687 [01:27<00:00,  7.89batch/s, loss=17.9]\n"
     ]
    },
    {
     "name": "stdout",
     "output_type": "stream",
     "text": [
      "Epoch 7, Loss: 20.6090\n"
     ]
    },
    {
     "name": "stderr",
     "output_type": "stream",
     "text": [
      "Epoch 8: 100%|██████████| 687/687 [01:27<00:00,  7.88batch/s, loss=20.5]\n"
     ]
    },
    {
     "name": "stdout",
     "output_type": "stream",
     "text": [
      "Epoch 8, Loss: 17.0702\n"
     ]
    },
    {
     "name": "stderr",
     "output_type": "stream",
     "text": [
      "Epoch 9: 100%|██████████| 687/687 [01:27<00:00,  7.87batch/s, loss=20.9]\n"
     ]
    },
    {
     "name": "stdout",
     "output_type": "stream",
     "text": [
      "Epoch 9, Loss: 15.0235\n"
     ]
    },
    {
     "name": "stderr",
     "output_type": "stream",
     "text": [
      "Epoch 10: 100%|██████████| 687/687 [01:30<00:00,  7.58batch/s, loss=15.5]\n"
     ]
    },
    {
     "name": "stdout",
     "output_type": "stream",
     "text": [
      "Epoch 10, Loss: 13.7864\n"
     ]
    },
    {
     "name": "stderr",
     "output_type": "stream",
     "text": [
      "Validation: 100%|██████████| 229/229 [00:31<00:00,  7.22it/s]\n"
     ]
    },
    {
     "name": "stdout",
     "output_type": "stream",
     "text": [
      "Fold 2/4\n"
     ]
    },
    {
     "name": "stderr",
     "output_type": "stream",
     "text": [
      "Epoch 1: 100%|██████████| 687/687 [01:35<00:00,  7.19batch/s, loss=53.4] \n"
     ]
    },
    {
     "name": "stdout",
     "output_type": "stream",
     "text": [
      "Epoch 1, Loss: 63.0077\n"
     ]
    },
    {
     "name": "stderr",
     "output_type": "stream",
     "text": [
      "Epoch 2: 100%|██████████| 687/687 [01:26<00:00,  7.92batch/s, loss=70.3]\n"
     ]
    },
    {
     "name": "stdout",
     "output_type": "stream",
     "text": [
      "Epoch 2, Loss: 45.6709\n"
     ]
    },
    {
     "name": "stderr",
     "output_type": "stream",
     "text": [
      "Epoch 3: 100%|██████████| 687/687 [01:26<00:00,  7.97batch/s, loss=20.2]\n"
     ]
    },
    {
     "name": "stdout",
     "output_type": "stream",
     "text": [
      "Epoch 3, Loss: 40.4053\n"
     ]
    },
    {
     "name": "stderr",
     "output_type": "stream",
     "text": [
      "Epoch 4: 100%|██████████| 687/687 [01:26<00:00,  7.96batch/s, loss=47.5]\n"
     ]
    },
    {
     "name": "stdout",
     "output_type": "stream",
     "text": [
      "Epoch 4, Loss: 35.7665\n"
     ]
    },
    {
     "name": "stderr",
     "output_type": "stream",
     "text": [
      "Epoch 5: 100%|██████████| 687/687 [01:28<00:00,  7.80batch/s, loss=45.1]\n"
     ]
    },
    {
     "name": "stdout",
     "output_type": "stream",
     "text": [
      "Epoch 5, Loss: 30.6977\n"
     ]
    },
    {
     "name": "stderr",
     "output_type": "stream",
     "text": [
      "Epoch 6: 100%|██████████| 687/687 [01:27<00:00,  7.86batch/s, loss=34.3]\n"
     ]
    },
    {
     "name": "stdout",
     "output_type": "stream",
     "text": [
      "Epoch 6, Loss: 25.9083\n"
     ]
    },
    {
     "name": "stderr",
     "output_type": "stream",
     "text": [
      "Epoch 7: 100%|██████████| 687/687 [01:28<00:00,  7.78batch/s, loss=34.9]\n"
     ]
    },
    {
     "name": "stdout",
     "output_type": "stream",
     "text": [
      "Epoch 7, Loss: 21.4759\n"
     ]
    },
    {
     "name": "stderr",
     "output_type": "stream",
     "text": [
      "Epoch 8: 100%|██████████| 687/687 [01:01<00:00, 11.22batch/s, loss=13.5]\n"
     ]
    },
    {
     "name": "stdout",
     "output_type": "stream",
     "text": [
      "Epoch 8, Loss: 17.9523\n"
     ]
    },
    {
     "name": "stderr",
     "output_type": "stream",
     "text": [
      "Epoch 9: 100%|██████████| 687/687 [00:43<00:00, 15.95batch/s, loss=25.9]\n"
     ]
    },
    {
     "name": "stdout",
     "output_type": "stream",
     "text": [
      "Epoch 9, Loss: 15.0757\n"
     ]
    },
    {
     "name": "stderr",
     "output_type": "stream",
     "text": [
      "Epoch 10: 100%|██████████| 687/687 [00:42<00:00, 16.24batch/s, loss=13.7]\n"
     ]
    },
    {
     "name": "stdout",
     "output_type": "stream",
     "text": [
      "Epoch 10, Loss: 13.7580\n"
     ]
    },
    {
     "name": "stderr",
     "output_type": "stream",
     "text": [
      "Validation: 100%|██████████| 229/229 [00:13<00:00, 17.47it/s]\n"
     ]
    },
    {
     "name": "stdout",
     "output_type": "stream",
     "text": [
      "Fold 3/4\n"
     ]
    },
    {
     "name": "stderr",
     "output_type": "stream",
     "text": [
      "Epoch 1: 100%|██████████| 687/687 [00:41<00:00, 16.39batch/s, loss=46]   \n"
     ]
    },
    {
     "name": "stdout",
     "output_type": "stream",
     "text": [
      "Epoch 1, Loss: 63.0173\n"
     ]
    },
    {
     "name": "stderr",
     "output_type": "stream",
     "text": [
      "Epoch 2: 100%|██████████| 687/687 [00:42<00:00, 16.17batch/s, loss=61.5]\n"
     ]
    },
    {
     "name": "stdout",
     "output_type": "stream",
     "text": [
      "Epoch 2, Loss: 45.5292\n"
     ]
    },
    {
     "name": "stderr",
     "output_type": "stream",
     "text": [
      "Epoch 3: 100%|██████████| 687/687 [00:42<00:00, 16.10batch/s, loss=28.6]\n"
     ]
    },
    {
     "name": "stdout",
     "output_type": "stream",
     "text": [
      "Epoch 3, Loss: 41.2886\n"
     ]
    },
    {
     "name": "stderr",
     "output_type": "stream",
     "text": [
      "Epoch 4: 100%|██████████| 687/687 [00:44<00:00, 15.61batch/s, loss=34.9]\n"
     ]
    },
    {
     "name": "stdout",
     "output_type": "stream",
     "text": [
      "Epoch 4, Loss: 36.4992\n"
     ]
    },
    {
     "name": "stderr",
     "output_type": "stream",
     "text": [
      "Epoch 5: 100%|██████████| 687/687 [00:42<00:00, 16.10batch/s, loss=46.6]\n"
     ]
    },
    {
     "name": "stdout",
     "output_type": "stream",
     "text": [
      "Epoch 5, Loss: 31.6066\n"
     ]
    },
    {
     "name": "stderr",
     "output_type": "stream",
     "text": [
      "Epoch 6: 100%|██████████| 687/687 [00:43<00:00, 15.66batch/s, loss=17]  \n"
     ]
    },
    {
     "name": "stdout",
     "output_type": "stream",
     "text": [
      "Epoch 6, Loss: 26.3896\n"
     ]
    },
    {
     "name": "stderr",
     "output_type": "stream",
     "text": [
      "Epoch 7: 100%|██████████| 687/687 [00:43<00:00, 15.97batch/s, loss=31.3]\n"
     ]
    },
    {
     "name": "stdout",
     "output_type": "stream",
     "text": [
      "Epoch 7, Loss: 21.9723\n"
     ]
    },
    {
     "name": "stderr",
     "output_type": "stream",
     "text": [
      "Epoch 8: 100%|██████████| 687/687 [00:44<00:00, 15.51batch/s, loss=24.5]\n"
     ]
    },
    {
     "name": "stdout",
     "output_type": "stream",
     "text": [
      "Epoch 8, Loss: 18.5323\n"
     ]
    },
    {
     "name": "stderr",
     "output_type": "stream",
     "text": [
      "Epoch 9: 100%|██████████| 687/687 [00:40<00:00, 16.79batch/s, loss=15.4]\n"
     ]
    },
    {
     "name": "stdout",
     "output_type": "stream",
     "text": [
      "Epoch 9, Loss: 15.8703\n"
     ]
    },
    {
     "name": "stderr",
     "output_type": "stream",
     "text": [
      "Epoch 10: 100%|██████████| 687/687 [00:43<00:00, 15.86batch/s, loss=8.37]\n"
     ]
    },
    {
     "name": "stdout",
     "output_type": "stream",
     "text": [
      "Epoch 10, Loss: 14.1550\n"
     ]
    },
    {
     "name": "stderr",
     "output_type": "stream",
     "text": [
      "Validation: 100%|██████████| 229/229 [00:11<00:00, 19.53it/s]\n"
     ]
    },
    {
     "name": "stdout",
     "output_type": "stream",
     "text": [
      "Fold 4/4\n"
     ]
    },
    {
     "name": "stderr",
     "output_type": "stream",
     "text": [
      "Epoch 1: 100%|██████████| 687/687 [00:41<00:00, 16.71batch/s, loss=50]   \n"
     ]
    },
    {
     "name": "stdout",
     "output_type": "stream",
     "text": [
      "Epoch 1, Loss: 63.2435\n"
     ]
    },
    {
     "name": "stderr",
     "output_type": "stream",
     "text": [
      "Epoch 2: 100%|██████████| 687/687 [00:42<00:00, 16.32batch/s, loss=33.3]\n"
     ]
    },
    {
     "name": "stdout",
     "output_type": "stream",
     "text": [
      "Epoch 2, Loss: 46.1380\n"
     ]
    },
    {
     "name": "stderr",
     "output_type": "stream",
     "text": [
      "Epoch 3: 100%|██████████| 687/687 [00:43<00:00, 15.71batch/s, loss=55.8]\n"
     ]
    },
    {
     "name": "stdout",
     "output_type": "stream",
     "text": [
      "Epoch 3, Loss: 41.4155\n"
     ]
    },
    {
     "name": "stderr",
     "output_type": "stream",
     "text": [
      "Epoch 4: 100%|██████████| 687/687 [00:41<00:00, 16.45batch/s, loss=38.6]\n"
     ]
    },
    {
     "name": "stdout",
     "output_type": "stream",
     "text": [
      "Epoch 4, Loss: 35.7544\n"
     ]
    },
    {
     "name": "stderr",
     "output_type": "stream",
     "text": [
      "Epoch 5: 100%|██████████| 687/687 [00:43<00:00, 15.77batch/s, loss=49.4]\n"
     ]
    },
    {
     "name": "stdout",
     "output_type": "stream",
     "text": [
      "Epoch 5, Loss: 31.2429\n"
     ]
    },
    {
     "name": "stderr",
     "output_type": "stream",
     "text": [
      "Epoch 6: 100%|██████████| 687/687 [00:42<00:00, 16.14batch/s, loss=44]  \n"
     ]
    },
    {
     "name": "stdout",
     "output_type": "stream",
     "text": [
      "Epoch 6, Loss: 26.1356\n"
     ]
    },
    {
     "name": "stderr",
     "output_type": "stream",
     "text": [
      "Epoch 7: 100%|██████████| 687/687 [00:43<00:00, 15.84batch/s, loss=34.3]\n"
     ]
    },
    {
     "name": "stdout",
     "output_type": "stream",
     "text": [
      "Epoch 7, Loss: 21.3707\n"
     ]
    },
    {
     "name": "stderr",
     "output_type": "stream",
     "text": [
      "Epoch 8: 100%|██████████| 687/687 [00:42<00:00, 16.06batch/s, loss=16.3]\n"
     ]
    },
    {
     "name": "stdout",
     "output_type": "stream",
     "text": [
      "Epoch 8, Loss: 18.0687\n"
     ]
    },
    {
     "name": "stderr",
     "output_type": "stream",
     "text": [
      "Epoch 9: 100%|██████████| 687/687 [00:42<00:00, 16.10batch/s, loss=19.3]\n"
     ]
    },
    {
     "name": "stdout",
     "output_type": "stream",
     "text": [
      "Epoch 9, Loss: 15.0678\n"
     ]
    },
    {
     "name": "stderr",
     "output_type": "stream",
     "text": [
      "Epoch 10: 100%|██████████| 687/687 [00:44<00:00, 15.50batch/s, loss=19.2]\n"
     ]
    },
    {
     "name": "stdout",
     "output_type": "stream",
     "text": [
      "Epoch 10, Loss: 14.2234\n"
     ]
    },
    {
     "name": "stderr",
     "output_type": "stream",
     "text": [
      "Validation: 100%|██████████| 229/229 [00:09<00:00, 25.34it/s]\n"
     ]
    }
   ],
   "source": [
    "# Evaluate each model\n",
    "results = {}\n",
    "for model_name, model_fn in models_dict.items():\n",
    "    print(f\"Evaluating {model_name}...\")\n",
    "    results[model_name] = train_and_evaluate(model_fn, dataset)"
   ]
  },
  {
   "cell_type": "code",
   "execution_count": null,
   "id": "d4d3a302-f8bf-4247-9636-c3231312cd1c",
   "metadata": {},
   "outputs": [],
   "source": []
  },
  {
   "cell_type": "code",
   "execution_count": null,
   "id": "b9f6e0c2-6f6f-4685-a302-56e126e892a1",
   "metadata": {},
   "outputs": [],
   "source": []
  },
  {
   "cell_type": "code",
   "execution_count": 13,
   "id": "f1427065-8c3d-4c76-b043-d273e8b07a42",
   "metadata": {},
   "outputs": [
    {
     "name": "stdout",
     "output_type": "stream",
     "text": [
      "\n",
      "efficientnet_b0 Results:\n",
      "Mean MAE: 5.663088798522949 ± 0.41725024580955505\n",
      "Mean MSE: 51.4847297668457 ± 7.6877055168151855\n",
      "Mean RMSE: 7.156731605529785 ± 0.5156798362731934\n",
      "Mean R^2: 0.14106282591819763 ± 0.13408371806144714\n",
      "\n",
      "mobilenet_v3_small Results:\n",
      "Mean MAE: 5.8403472900390625 ± 0.1638495922088623\n",
      "Mean MSE: 53.553977966308594 ± 2.9495835304260254\n",
      "Mean RMSE: 7.315273761749268 ± 0.20186598598957062\n",
      "Mean R^2: 0.1066514104604721 ± 0.05912262946367264\n"
     ]
    }
   ],
   "source": [
    "# Print results\n",
    "for model_name, metrics in results.items():\n",
    "    print(f\"\\n{model_name} Results:\")\n",
    "    print(f\"Mean MAE: {np.mean(metrics['mae'])} ± {np.std(metrics['mae'])}\")\n",
    "    print(f\"Mean MSE: {np.mean(metrics['mse'])} ± {np.std(metrics['mse'])}\")\n",
    "    print(f\"Mean RMSE: {np.mean(metrics['rmse'])} ± {np.std(metrics['rmse'])}\")\n",
    "    print(f\"Mean R^2: {np.mean(metrics['r2'])} ± {np.std(metrics['r2'])}\")"
   ]
  },
  {
   "cell_type": "code",
   "execution_count": 15,
   "id": "c81061f9-69e3-487d-af86-a96c865381d9",
   "metadata": {
    "tags": []
   },
   "outputs": [
    {
     "data": {
      "image/png": "[encoded data removed]",
      "text/plain": [
       "<Figure size 1000x800 with 4 Axes>"
      ]
     },
     "metadata": {},
     "output_type": "display_data"
    }
   ],
   "source": [
    "metrics = ['mae', 'mse', 'rmse', 'r2']\n",
    "models = ['efficientnet_b0', 'mobilenet_v3_small']\n",
    "num_metrics = len(metrics)\n",
    "num_models = len(models)\n",
    "\n",
    "fig, axes = plt.subplots(num_metrics, 1, figsize=(10, 8))\n",
    "\n",
    "for i, metric in enumerate(metrics):\n",
    "    for model in models:\n",
    "        axes[i].plot(results[model][metric], label=model)\n",
    "    axes[i].set_title(metric.upper())\n",
    "    axes[i].legend()\n",
    "    axes[i].grid(True)\n",
    "\n",
    "plt.tight_layout()\n",
    "plt.show()"
   ]
  },
  {
   "cell_type": "markdown",
   "id": "275656b1-e7f3-40ca-af62-1700c13ce026",
   "metadata": {},
   "source": [
    "## Results\n",
    "### efficientnet_b0\n",
    "- MAE: The mean absolute errors across four different runs are approximately 5.45, 6.38, 5.44, and 5.37. This indicates that on average, the predictions are off by about 5.4 to 6.4 units from the actual values.\n",
    "- MSE: The mean squared errors are approximately 47.29, 64.80, 47.06, and 46.80. These values are relatively high, indicating some larger errors in prediction.\n",
    "- RMSE: The root mean squared errors are approximately 6.88, 8.05, 6.86, and 6.84. These values indicate the average magnitude of the errors.\n",
    "- R²: The R² values are 0.22, -0.09, 0.21, and 0.23. The negative value (-0.09) suggests that for one of the runs, the model performed worse than a simple mean predictor.\n",
    "\n",
    "\n",
    "### mobilenet_v3_small\n",
    "- MAE: The mean absolute errors are approximately 5.74, 6.03, 5.63, and 5.96. Similar to efficientnet_b0, the predictions are off by about 5.6 to 6 units on average.\n",
    "- MSE: The mean squared errors are 51.55, 56.90, 49.82, and 55.94. These values are also relatively high.\n",
    "- RMSE: The root mean squared errors are approximately 7.18, 7.54, 7.06, and 7.48. These values are similar to those of efficientnet_b0, indicating the average magnitude of the errors.\n",
    "- R²: The R² values are 0.16, 0.05, 0.18, and 0.05. These values indicate that the model explains a small portion of the variance in the data, but the performance is not very strong.\n",
    "\n",
    "### Summary\n",
    "Both models have similar performance metrics, with MAE, MSE, and RMSE indicating that the predictions are off by a certain range. The R² values suggest that both models have limited ability to explain the variance in the data, with some runs performing worse than others. Lower MAE, MSE, and RMSE values and higher R² values indicate better performance. efficientnet_b0 performs better than mobilenet_v3_small, however, that is a given as efficientnet has 4M parameters and mobilenet only has 1.5M with a slight performance decrease."
   ]
  },
  {
   "cell_type": "code",
   "execution_count": null,
   "id": "fe1d349f-a102-40bd-a15a-c550a42e20cc",
   "metadata": {
    "tags": []
   },
   "outputs": [],
   "source": []
  },
  {
   "cell_type": "code",
   "execution_count": 16,
   "id": "c707359f-4bfa-43fd-8f6f-d50d9877fd4c",
   "metadata": {},
   "outputs": [
    {
     "data": {
      "text/plain": [
       "{'efficientnet_b0': {'mae': [np.float32(5.454874),\n",
       "   np.float32(6.3838015),\n",
       "   np.float32(5.4406343),\n",
       "   np.float32(5.373046)],\n",
       "  'mse': [np.float32(47.285225),\n",
       "   np.float32(64.79692),\n",
       "   np.float32(47.05587),\n",
       "   np.float32(46.800907)],\n",
       "  'rmse': [np.float32(6.8764253),\n",
       "   np.float32(8.049653),\n",
       "   np.float32(6.8597283),\n",
       "   np.float32(6.841119)],\n",
       "  'r2': [np.float32(0.21813554),\n",
       "   np.float32(-0.09074116),\n",
       "   np.float32(0.20681792),\n",
       "   np.float32(0.230039)]},\n",
       " 'mobilenet_v3_small': {'mae': [np.float32(5.742283),\n",
       "   np.float32(6.0329943),\n",
       "   np.float32(5.625449),\n",
       "   np.float32(5.960664)],\n",
       "  'mse': [np.float32(51.5512),\n",
       "   np.float32(56.89669),\n",
       "   np.float32(49.824795),\n",
       "   np.float32(55.94323)],\n",
       "  'rmse': [np.float32(7.1799164),\n",
       "   np.float32(7.5429893),\n",
       "   np.float32(7.058668),\n",
       "   np.float32(7.479521)],\n",
       "  'r2': [np.float32(0.15539128),\n",
       "   np.float32(0.04827088),\n",
       "   np.float32(0.17531377),\n",
       "   np.float32(0.047629714)]}}"
      ]
     },
     "execution_count": 16,
     "metadata": {},
     "output_type": "execute_result"
    }
   ],
   "source": [
    "results"
   ]
  },
  {
   "cell_type": "code",
   "execution_count": null,
   "id": "0534723c-02d6-4a3e-8560-490cc174348d",
   "metadata": {},
   "outputs": [],
   "source": [
    "m"
   ]
  }
 ],
 "metadata": {
  "kernelspec": {
   "display_name": "braineye",
   "language": "python",
   "name": "braineye"
  },
  "language_info": {
   "codemirror_mode": {
    "name": "ipython",
    "version": 3
   },
   "file_extension": ".py",
   "mimetype": "text/x-python",
   "name": "python",
   "nbconvert_exporter": "python",
   "pygments_lexer": "ipython3",
   "version": "3.12.4"
  }
 },
 "nbformat": 4,
 "nbformat_minor": 5
}
